{
  "cells": [
    {
      "cell_type": "markdown",
      "source": [
        "## Comparing Decision Tree and Linear Regression Algorithms \n",
        "\n",
        "There is a dataset on the number of bicycles people rent by the hour and day in Washington, D.C.\n",
        "The data can be downloaded here: \n",
        "http://archive.ics.uci.edu/ml/datasets/Bike+Sharing+Dataset\n",
        "\n",
        "The target column for prediction is  \n",
        "'cnt' - The total number of bike rentals (casual + registered)\n",
        "\n",
        "In this project, we will predict the total number of bikes people rented in a given hour. We will predict the cnt column using all of the other columns, except for casual and registered. \n",
        "\n",
        "I will apply two machine learning algorithms to compare results, which one would give us the more accurate prediction. \n"
      ],
      "metadata": {
        "id": "o-MwY0fmUPVG"
      },
      "id": "o-MwY0fmUPVG"
    },
    {
      "cell_type": "code",
      "execution_count": null,
      "id": "380bc379",
      "metadata": {
        "colab": {
          "base_uri": "https://localhost:8080/",
          "height": 357
        },
        "id": "380bc379",
        "outputId": "ac4641c0-cfd7-4c32-cc89-7b773cfdde35"
      },
      "outputs": [
        {
          "output_type": "execute_result",
          "data": {
            "text/plain": [
              "   instant     dteday  season  yr  mnth  hr  holiday  weekday  workingday  \\\n",
              "0        1 2011-01-01       1   0     1   0        0        6           0   \n",
              "1        2 2011-01-01       1   0     1   1        0        6           0   \n",
              "2        3 2011-01-01       1   0     1   2        0        6           0   \n",
              "3        4 2011-01-01       1   0     1   3        0        6           0   \n",
              "4        5 2011-01-01       1   0     1   4        0        6           0   \n",
              "\n",
              "   weathersit  temp   atemp   hum  windspeed  casual  registered  cnt  \n",
              "0           1  0.24  0.2879  0.81        0.0       3          13   16  \n",
              "1           1  0.22  0.2727  0.80        0.0       8          32   40  \n",
              "2           1  0.22  0.2727  0.80        0.0       5          27   32  \n",
              "3           1  0.24  0.2879  0.75        0.0       3          10   13  \n",
              "4           1  0.24  0.2879  0.75        0.0       0           1    1  "
            ],
            "text/html": [
              "\n",
              "  <div id=\"df-dc88535c-d263-4b95-a06f-0da23c78d8f4\">\n",
              "    <div class=\"colab-df-container\">\n",
              "      <div>\n",
              "<style scoped>\n",
              "    .dataframe tbody tr th:only-of-type {\n",
              "        vertical-align: middle;\n",
              "    }\n",
              "\n",
              "    .dataframe tbody tr th {\n",
              "        vertical-align: top;\n",
              "    }\n",
              "\n",
              "    .dataframe thead th {\n",
              "        text-align: right;\n",
              "    }\n",
              "</style>\n",
              "<table border=\"1\" class=\"dataframe\">\n",
              "  <thead>\n",
              "    <tr style=\"text-align: right;\">\n",
              "      <th></th>\n",
              "      <th>instant</th>\n",
              "      <th>dteday</th>\n",
              "      <th>season</th>\n",
              "      <th>yr</th>\n",
              "      <th>mnth</th>\n",
              "      <th>hr</th>\n",
              "      <th>holiday</th>\n",
              "      <th>weekday</th>\n",
              "      <th>workingday</th>\n",
              "      <th>weathersit</th>\n",
              "      <th>temp</th>\n",
              "      <th>atemp</th>\n",
              "      <th>hum</th>\n",
              "      <th>windspeed</th>\n",
              "      <th>casual</th>\n",
              "      <th>registered</th>\n",
              "      <th>cnt</th>\n",
              "    </tr>\n",
              "  </thead>\n",
              "  <tbody>\n",
              "    <tr>\n",
              "      <th>0</th>\n",
              "      <td>1</td>\n",
              "      <td>2011-01-01</td>\n",
              "      <td>1</td>\n",
              "      <td>0</td>\n",
              "      <td>1</td>\n",
              "      <td>0</td>\n",
              "      <td>0</td>\n",
              "      <td>6</td>\n",
              "      <td>0</td>\n",
              "      <td>1</td>\n",
              "      <td>0.24</td>\n",
              "      <td>0.2879</td>\n",
              "      <td>0.81</td>\n",
              "      <td>0.0</td>\n",
              "      <td>3</td>\n",
              "      <td>13</td>\n",
              "      <td>16</td>\n",
              "    </tr>\n",
              "    <tr>\n",
              "      <th>1</th>\n",
              "      <td>2</td>\n",
              "      <td>2011-01-01</td>\n",
              "      <td>1</td>\n",
              "      <td>0</td>\n",
              "      <td>1</td>\n",
              "      <td>1</td>\n",
              "      <td>0</td>\n",
              "      <td>6</td>\n",
              "      <td>0</td>\n",
              "      <td>1</td>\n",
              "      <td>0.22</td>\n",
              "      <td>0.2727</td>\n",
              "      <td>0.80</td>\n",
              "      <td>0.0</td>\n",
              "      <td>8</td>\n",
              "      <td>32</td>\n",
              "      <td>40</td>\n",
              "    </tr>\n",
              "    <tr>\n",
              "      <th>2</th>\n",
              "      <td>3</td>\n",
              "      <td>2011-01-01</td>\n",
              "      <td>1</td>\n",
              "      <td>0</td>\n",
              "      <td>1</td>\n",
              "      <td>2</td>\n",
              "      <td>0</td>\n",
              "      <td>6</td>\n",
              "      <td>0</td>\n",
              "      <td>1</td>\n",
              "      <td>0.22</td>\n",
              "      <td>0.2727</td>\n",
              "      <td>0.80</td>\n",
              "      <td>0.0</td>\n",
              "      <td>5</td>\n",
              "      <td>27</td>\n",
              "      <td>32</td>\n",
              "    </tr>\n",
              "    <tr>\n",
              "      <th>3</th>\n",
              "      <td>4</td>\n",
              "      <td>2011-01-01</td>\n",
              "      <td>1</td>\n",
              "      <td>0</td>\n",
              "      <td>1</td>\n",
              "      <td>3</td>\n",
              "      <td>0</td>\n",
              "      <td>6</td>\n",
              "      <td>0</td>\n",
              "      <td>1</td>\n",
              "      <td>0.24</td>\n",
              "      <td>0.2879</td>\n",
              "      <td>0.75</td>\n",
              "      <td>0.0</td>\n",
              "      <td>3</td>\n",
              "      <td>10</td>\n",
              "      <td>13</td>\n",
              "    </tr>\n",
              "    <tr>\n",
              "      <th>4</th>\n",
              "      <td>5</td>\n",
              "      <td>2011-01-01</td>\n",
              "      <td>1</td>\n",
              "      <td>0</td>\n",
              "      <td>1</td>\n",
              "      <td>4</td>\n",
              "      <td>0</td>\n",
              "      <td>6</td>\n",
              "      <td>0</td>\n",
              "      <td>1</td>\n",
              "      <td>0.24</td>\n",
              "      <td>0.2879</td>\n",
              "      <td>0.75</td>\n",
              "      <td>0.0</td>\n",
              "      <td>0</td>\n",
              "      <td>1</td>\n",
              "      <td>1</td>\n",
              "    </tr>\n",
              "  </tbody>\n",
              "</table>\n",
              "</div>\n",
              "      <button class=\"colab-df-convert\" onclick=\"convertToInteractive('df-dc88535c-d263-4b95-a06f-0da23c78d8f4')\"\n",
              "              title=\"Convert this dataframe to an interactive table.\"\n",
              "              style=\"display:none;\">\n",
              "        \n",
              "  <svg xmlns=\"http://www.w3.org/2000/svg\" height=\"24px\"viewBox=\"0 0 24 24\"\n",
              "       width=\"24px\">\n",
              "    <path d=\"M0 0h24v24H0V0z\" fill=\"none\"/>\n",
              "    <path d=\"M18.56 5.44l.94 2.06.94-2.06 2.06-.94-2.06-.94-.94-2.06-.94 2.06-2.06.94zm-11 1L8.5 8.5l.94-2.06 2.06-.94-2.06-.94L8.5 2.5l-.94 2.06-2.06.94zm10 10l.94 2.06.94-2.06 2.06-.94-2.06-.94-.94-2.06-.94 2.06-2.06.94z\"/><path d=\"M17.41 7.96l-1.37-1.37c-.4-.4-.92-.59-1.43-.59-.52 0-1.04.2-1.43.59L10.3 9.45l-7.72 7.72c-.78.78-.78 2.05 0 2.83L4 21.41c.39.39.9.59 1.41.59.51 0 1.02-.2 1.41-.59l7.78-7.78 2.81-2.81c.8-.78.8-2.07 0-2.86zM5.41 20L4 18.59l7.72-7.72 1.47 1.35L5.41 20z\"/>\n",
              "  </svg>\n",
              "      </button>\n",
              "      \n",
              "  <style>\n",
              "    .colab-df-container {\n",
              "      display:flex;\n",
              "      flex-wrap:wrap;\n",
              "      gap: 12px;\n",
              "    }\n",
              "\n",
              "    .colab-df-convert {\n",
              "      background-color: #E8F0FE;\n",
              "      border: none;\n",
              "      border-radius: 50%;\n",
              "      cursor: pointer;\n",
              "      display: none;\n",
              "      fill: #1967D2;\n",
              "      height: 32px;\n",
              "      padding: 0 0 0 0;\n",
              "      width: 32px;\n",
              "    }\n",
              "\n",
              "    .colab-df-convert:hover {\n",
              "      background-color: #E2EBFA;\n",
              "      box-shadow: 0px 1px 2px rgba(60, 64, 67, 0.3), 0px 1px 3px 1px rgba(60, 64, 67, 0.15);\n",
              "      fill: #174EA6;\n",
              "    }\n",
              "\n",
              "    [theme=dark] .colab-df-convert {\n",
              "      background-color: #3B4455;\n",
              "      fill: #D2E3FC;\n",
              "    }\n",
              "\n",
              "    [theme=dark] .colab-df-convert:hover {\n",
              "      background-color: #434B5C;\n",
              "      box-shadow: 0px 1px 3px 1px rgba(0, 0, 0, 0.15);\n",
              "      filter: drop-shadow(0px 1px 2px rgba(0, 0, 0, 0.3));\n",
              "      fill: #FFFFFF;\n",
              "    }\n",
              "  </style>\n",
              "\n",
              "      <script>\n",
              "        const buttonEl =\n",
              "          document.querySelector('#df-dc88535c-d263-4b95-a06f-0da23c78d8f4 button.colab-df-convert');\n",
              "        buttonEl.style.display =\n",
              "          google.colab.kernel.accessAllowed ? 'block' : 'none';\n",
              "\n",
              "        async function convertToInteractive(key) {\n",
              "          const element = document.querySelector('#df-dc88535c-d263-4b95-a06f-0da23c78d8f4');\n",
              "          const dataTable =\n",
              "            await google.colab.kernel.invokeFunction('convertToInteractive',\n",
              "                                                     [key], {});\n",
              "          if (!dataTable) return;\n",
              "\n",
              "          const docLinkHtml = 'Like what you see? Visit the ' +\n",
              "            '<a target=\"_blank\" href=https://colab.research.google.com/notebooks/data_table.ipynb>data table notebook</a>'\n",
              "            + ' to learn more about interactive tables.';\n",
              "          element.innerHTML = '';\n",
              "          dataTable['output_type'] = 'display_data';\n",
              "          await google.colab.output.renderOutput(dataTable, element);\n",
              "          const docLink = document.createElement('div');\n",
              "          docLink.innerHTML = docLinkHtml;\n",
              "          element.appendChild(docLink);\n",
              "        }\n",
              "      </script>\n",
              "    </div>\n",
              "  </div>\n",
              "  "
            ]
          },
          "metadata": {},
          "execution_count": 148
        }
      ],
      "source": [
        "import pandas as pd\n",
        "import numpy as np\n",
        "import matplotlib.pyplot as plt\n",
        "from sklearn.metrics import mean_squared_error\n",
        "from sklearn.linear_model import LinearRegression\n",
        "from sklearn.tree import DecisionTreeRegressor\n",
        "\n",
        "# Loading the dataset: \n",
        "bike_rentals = pd.read_csv(\"bike_rental_hour.csv\", parse_dates=[\"dteday\"])\n",
        "bike_rentals.head()"
      ]
    },
    {
      "cell_type": "code",
      "execution_count": null,
      "id": "4acf1da5",
      "metadata": {
        "colab": {
          "base_uri": "https://localhost:8080/"
        },
        "id": "4acf1da5",
        "outputId": "63d4b135-1265-4f97-92b9-89a7e3606f2b"
      },
      "outputs": [
        {
          "output_type": "stream",
          "name": "stdout",
          "text": [
            "<class 'pandas.core.frame.DataFrame'>\n",
            "RangeIndex: 17379 entries, 0 to 17378\n",
            "Data columns (total 17 columns):\n",
            " #   Column      Non-Null Count  Dtype         \n",
            "---  ------      --------------  -----         \n",
            " 0   instant     17379 non-null  int64         \n",
            " 1   dteday      17379 non-null  datetime64[ns]\n",
            " 2   season      17379 non-null  int64         \n",
            " 3   yr          17379 non-null  int64         \n",
            " 4   mnth        17379 non-null  int64         \n",
            " 5   hr          17379 non-null  int64         \n",
            " 6   holiday     17379 non-null  int64         \n",
            " 7   weekday     17379 non-null  int64         \n",
            " 8   workingday  17379 non-null  int64         \n",
            " 9   weathersit  17379 non-null  int64         \n",
            " 10  temp        17379 non-null  float64       \n",
            " 11  atemp       17379 non-null  float64       \n",
            " 12  hum         17379 non-null  float64       \n",
            " 13  windspeed   17379 non-null  float64       \n",
            " 14  casual      17379 non-null  int64         \n",
            " 15  registered  17379 non-null  int64         \n",
            " 16  cnt         17379 non-null  int64         \n",
            "dtypes: datetime64[ns](1), float64(4), int64(12)\n",
            "memory usage: 2.3 MB\n"
          ]
        }
      ],
      "source": [
        "bike_rentals.info()"
      ]
    },
    {
      "cell_type": "markdown",
      "source": [
        "Let us check the null values. The Regressions algorithms do not work if there are null values in the file: "
      ],
      "metadata": {
        "id": "FBHJPfZzSdJ9"
      },
      "id": "FBHJPfZzSdJ9"
    },
    {
      "cell_type": "code",
      "source": [
        "bike_rentals.isnull().sum()"
      ],
      "metadata": {
        "colab": {
          "base_uri": "https://localhost:8080/"
        },
        "id": "1w49LZduJ1aa",
        "outputId": "10182012-c7ac-431d-defa-3285e5543fbb"
      },
      "id": "1w49LZduJ1aa",
      "execution_count": null,
      "outputs": [
        {
          "output_type": "execute_result",
          "data": {
            "text/plain": [
              "instant       0\n",
              "dteday        0\n",
              "season        0\n",
              "yr            0\n",
              "mnth          0\n",
              "hr            0\n",
              "holiday       0\n",
              "weekday       0\n",
              "workingday    0\n",
              "weathersit    0\n",
              "temp          0\n",
              "atemp         0\n",
              "hum           0\n",
              "windspeed     0\n",
              "casual        0\n",
              "registered    0\n",
              "cnt           0\n",
              "dtype: int64"
            ]
          },
          "metadata": {},
          "execution_count": 150
        }
      ]
    },
    {
      "cell_type": "code",
      "source": [
        "# Display a histogram of our \"cnt\" column - total humber of bikes:\n",
        "plt.hist(bike_rentals[\"cnt\"])\n",
        "plt.show()"
      ],
      "metadata": {
        "colab": {
          "base_uri": "https://localhost:8080/",
          "height": 265
        },
        "id": "wE0a0xOqDgkm",
        "outputId": "6076ff92-2e74-4e86-f8f3-3f90fc8fdeed"
      },
      "id": "wE0a0xOqDgkm",
      "execution_count": null,
      "outputs": [
        {
          "output_type": "display_data",
          "data": {
            "text/plain": [
              "<Figure size 432x288 with 1 Axes>"
            ],
            "image/png": "[encoded data removed]"
          },
          "metadata": {
            "needs_background": "light"
          }
        }
      ]
    },
    {
      "cell_type": "code",
      "source": [
        ""
      ],
      "metadata": {
        "id": "r02HMgyHJt4A"
      },
      "id": "r02HMgyHJt4A",
      "execution_count": null,
      "outputs": []
    },
    {
      "cell_type": "code",
      "source": [
        "bike_rentals.corr(method='pearson')['cnt']"
      ],
      "metadata": {
        "colab": {
          "base_uri": "https://localhost:8080/"
        },
        "id": "KjN4OOloDtus",
        "outputId": "a7db456d-cd01-4d14-b6b0-4fe6eed99c0f"
      },
      "id": "KjN4OOloDtus",
      "execution_count": null,
      "outputs": [
        {
          "output_type": "execute_result",
          "data": {
            "text/plain": [
              "instant       0.278379\n",
              "season        0.178056\n",
              "yr            0.250495\n",
              "mnth          0.120638\n",
              "hr            0.394071\n",
              "holiday      -0.030927\n",
              "weekday       0.026900\n",
              "workingday    0.030284\n",
              "weathersit   -0.142426\n",
              "temp          0.404772\n",
              "atemp         0.400929\n",
              "hum          -0.322911\n",
              "windspeed     0.093234\n",
              "casual        0.694564\n",
              "registered    0.972151\n",
              "cnt           1.000000\n",
              "Name: cnt, dtype: float64"
            ]
          },
          "metadata": {},
          "execution_count": 152
        }
      ]
    },
    {
      "cell_type": "code",
      "source": [
        "# Create a function to categorize the part of the day: morning - 1, afternoon -2,\n",
        "# evening - 3, night -4:   \n",
        "def assign_label(hour):\n",
        "    if hour >=0 and hour < 6:\n",
        "        return 4\n",
        "    elif hour >=6 and hour < 12:\n",
        "        return 1\n",
        "    elif hour >= 12 and hour < 18:\n",
        "        return 2\n",
        "    elif hour >= 18 and hour <=24:\n",
        "        return 3\n",
        "\n",
        "bike_rentals[\"time_label\"] = bike_rentals[\"hr\"].apply(assign_label)\n",
        "    "
      ],
      "metadata": {
        "id": "SAhjaEvzD89Y"
      },
      "id": "SAhjaEvzD89Y",
      "execution_count": null,
      "outputs": []
    },
    {
      "cell_type": "code",
      "source": [
        "#Let us apply the function to the 'hr' column of the dataframe:\n",
        "bike_rentals[\"time_label\"] = bike_rentals[\"hr\"].apply(assign_label)"
      ],
      "metadata": {
        "id": "-9zScOFvEwC1"
      },
      "id": "-9zScOFvEwC1",
      "execution_count": null,
      "outputs": []
    },
    {
      "cell_type": "code",
      "source": [
        "bike_rentals[\"time_label\"].isnull().sum()"
      ],
      "metadata": {
        "colab": {
          "base_uri": "https://localhost:8080/"
        },
        "id": "ioytfxB_FBgF",
        "outputId": "6ef30846-70ef-4f6a-f0e2-f23b53053bf3"
      },
      "id": "ioytfxB_FBgF",
      "execution_count": null,
      "outputs": [
        {
          "output_type": "execute_result",
          "data": {
            "text/plain": [
              "0"
            ]
          },
          "metadata": {},
          "execution_count": 155
        }
      ]
    },
    {
      "cell_type": "code",
      "source": [
        "# Split the dataset on train and test datasets in proportion 80% :20 %\n",
        "\n",
        "# The number of rows for 80% of total dataset: \n",
        "train_size = round(bike_rentals.shape[0] * .8)\n",
        "print(train_size)\n",
        "\n"
      ],
      "metadata": {
        "colab": {
          "base_uri": "https://localhost:8080/"
        },
        "id": "6faFeYOtFEoM",
        "outputId": "88baf439-0b2f-478d-ef63-5b62ab0368a9"
      },
      "id": "6faFeYOtFEoM",
      "execution_count": null,
      "outputs": [
        {
          "output_type": "stream",
          "name": "stdout",
          "text": [
            "13903\n"
          ]
        }
      ]
    },
    {
      "cell_type": "code",
      "source": [
        "# Select a random sample to be the train dataframe\n",
        "train = bike_rentals.sample(n=train_size, random_state=0)"
      ],
      "metadata": {
        "id": "-eTXkvhxF85M"
      },
      "id": "-eTXkvhxF85M",
      "execution_count": null,
      "outputs": []
    },
    {
      "cell_type": "code",
      "source": [
        "# The rest of the rows for the test dataset: \n",
        "test = bike_rentals.loc[~bike_rentals.index.isin(train.index)]\n"
      ],
      "metadata": {
        "id": "6hCvb18XGQLd"
      },
      "id": "6hCvb18XGQLd",
      "execution_count": null,
      "outputs": []
    },
    {
      "cell_type": "markdown",
      "source": [
        "## Linear regression model\n",
        "\n"
      ],
      "metadata": {
        "id": "rmkEtDyNGnpT"
      },
      "id": "rmkEtDyNGnpT"
    },
    {
      "cell_type": "code",
      "source": [
        "# The features to train the model:\n",
        "features = [\"temp\", \"hum\", \"workingday\", \"yr\", \"time_label\"]"
      ],
      "metadata": {
        "id": "BlSbZeKXHAwi"
      },
      "id": "BlSbZeKXHAwi",
      "execution_count": null,
      "outputs": []
    },
    {
      "cell_type": "code",
      "source": [
        "#Instantiate a linear regression model\n",
        "lr = LinearRegression()"
      ],
      "metadata": {
        "id": "xhHsZvB0HLLa"
      },
      "id": "xhHsZvB0HLLa",
      "execution_count": null,
      "outputs": []
    },
    {
      "cell_type": "code",
      "source": [
        "# Fit the model using the train dataset\n",
        "lr.fit(train[features], train[\"cnt\"])"
      ],
      "metadata": {
        "colab": {
          "base_uri": "https://localhost:8080/"
        },
        "id": "z_ynEfB_HNMT",
        "outputId": "6f9cd71e-15ab-4a90-8c46-bcfa15e60506"
      },
      "id": "z_ynEfB_HNMT",
      "execution_count": null,
      "outputs": [
        {
          "output_type": "execute_result",
          "data": {
            "text/plain": [
              "LinearRegression()"
            ]
          },
          "metadata": {},
          "execution_count": 161
        }
      ]
    },
    {
      "cell_type": "code",
      "source": [
        "# Predict for the test dataset:\n",
        "predictions = lr.predict(test[features])"
      ],
      "metadata": {
        "id": "b8HYsh9VHk1y"
      },
      "id": "b8HYsh9VHk1y",
      "execution_count": null,
      "outputs": []
    },
    {
      "cell_type": "code",
      "source": [
        "# Calculate Root Mean Squared error: \n",
        "rmse = mean_squared_error(test[\"cnt\"], predictions) ** 1/2 \n",
        "print(\"RMSE value of the linear regression model:\", round(rmse)) "
      ],
      "metadata": {
        "colab": {
          "base_uri": "https://localhost:8080/"
        },
        "id": "-pP1BwFwHzX7",
        "outputId": "6d82fd67-b5ec-4dd4-f80f-96e1e0077c42"
      },
      "id": "-pP1BwFwHzX7",
      "execution_count": null,
      "outputs": [
        {
          "output_type": "stream",
          "name": "stdout",
          "text": [
            "RMSE value of the linear regression model: 9936\n"
          ]
        }
      ]
    },
    {
      "cell_type": "code",
      "source": [
        "np.mean((predictions - test[\"cnt\"]) ** 2)"
      ],
      "metadata": {
        "colab": {
          "base_uri": "https://localhost:8080/"
        },
        "id": "ddBU3l47IHfR",
        "outputId": "9717e396-2498-43a6-bf61-6b8b2ef855b8"
      },
      "id": "ddBU3l47IHfR",
      "execution_count": null,
      "outputs": [
        {
          "output_type": "execute_result",
          "data": {
            "text/plain": [
              "19871.503260144833"
            ]
          },
          "metadata": {},
          "execution_count": 164
        }
      ]
    },
    {
      "cell_type": "markdown",
      "source": [
        "The error is pretty high, so we'll try to apply the decision tree algorithm, \n",
        "maybe it will give us a more accurate result. "
      ],
      "metadata": {
        "id": "Au7TE3bWIly7"
      },
      "id": "Au7TE3bWIly7"
    },
    {
      "cell_type": "markdown",
      "source": [
        "## Decision tree algorithm"
      ],
      "metadata": {
        "id": "oj2LiI0eNYG2"
      },
      "id": "oj2LiI0eNYG2"
    },
    {
      "cell_type": "markdown",
      "source": [
        ""
      ],
      "metadata": {
        "id": "64sqvi9xNlqA"
      },
      "id": "64sqvi9xNlqA"
    },
    {
      "cell_type": "code",
      "source": [
        "r = DecisionTreeRegressor(min_samples_leaf=5)\n",
        "\n",
        "r.fit(train[features], train[\"cnt\"])"
      ],
      "metadata": {
        "colab": {
          "base_uri": "https://localhost:8080/"
        },
        "id": "GtSXjx9-Nmdu",
        "outputId": "a5f968bf-e782-4353-e8d4-08e6a247800b"
      },
      "id": "GtSXjx9-Nmdu",
      "execution_count": null,
      "outputs": [
        {
          "output_type": "execute_result",
          "data": {
            "text/plain": [
              "DecisionTreeRegressor(min_samples_leaf=5)"
            ]
          },
          "metadata": {},
          "execution_count": 165
        }
      ]
    },
    {
      "cell_type": "code",
      "source": [
        "predictions = r.predict(test[features])\n",
        "# Calculate Root Mean Squared error: \n",
        "rmse = mean_squared_error(test[\"cnt\"], predictions) ** 1/2 \n",
        "print(\"RMSE value of decision tree:\", round(rmse)) \n",
        "\n",
        "np.mean((predictions - test[\"cnt\"]) ** 2)"
      ],
      "metadata": {
        "colab": {
          "base_uri": "https://localhost:8080/"
        },
        "id": "L88G8yq7N9AX",
        "outputId": "013d35d8-d3c8-49b9-9d71-f35c41c1e510"
      },
      "id": "L88G8yq7N9AX",
      "execution_count": null,
      "outputs": [
        {
          "output_type": "stream",
          "name": "stdout",
          "text": [
            "RMSE value of decision tree: 7733\n"
          ]
        },
        {
          "output_type": "execute_result",
          "data": {
            "text/plain": [
              "15466.381587356665"
            ]
          },
          "metadata": {},
          "execution_count": 166
        }
      ]
    },
    {
      "cell_type": "markdown",
      "source": [
        "The error is still pretty big, but let us increase the number of the leaf nodes: "
      ],
      "metadata": {
        "id": "LBWHAVb-QfUt"
      },
      "id": "LBWHAVb-QfUt"
    },
    {
      "cell_type": "code",
      "source": [
        "r = DecisionTreeRegressor(min_samples_leaf=50)\n",
        "\n",
        "r.fit(train[features], train[\"cnt\"])"
      ],
      "metadata": {
        "colab": {
          "base_uri": "https://localhost:8080/"
        },
        "id": "bp5b8no5QM7O",
        "outputId": "5f94c27b-4c57-4dc0-e924-28faf6ed7e8a"
      },
      "id": "bp5b8no5QM7O",
      "execution_count": null,
      "outputs": [
        {
          "output_type": "execute_result",
          "data": {
            "text/plain": [
              "DecisionTreeRegressor(min_samples_leaf=50)"
            ]
          },
          "metadata": {},
          "execution_count": 167
        }
      ]
    },
    {
      "cell_type": "code",
      "source": [
        "predictions = r.predict(test[features])\n",
        "# Calculate Root Mean Squared error: \n",
        "rmse = mean_squared_error(test[\"cnt\"], predictions) ** 1/2 \n",
        "print(\"RMSE value of decision tree:\", round(rmse))"
      ],
      "metadata": {
        "colab": {
          "base_uri": "https://localhost:8080/"
        },
        "id": "EIj6EmhtQX-X",
        "outputId": "24b15a8f-6e1f-4183-9514-b98eff9a2a1b"
      },
      "id": "EIj6EmhtQX-X",
      "execution_count": null,
      "outputs": [
        {
          "output_type": "stream",
          "name": "stdout",
          "text": [
            "RMSE value of decision tree: 7066\n"
          ]
        }
      ]
    },
    {
      "cell_type": "markdown",
      "source": [
        "# Conclusion. \n",
        "\n",
        "### I applied the Liner Regression and the Decision Tree Algorithms to our dataset, and the Decision Tree algorithm gave us much more accurate results."
      ],
      "metadata": {
        "id": "eTlUWlApQ06n"
      },
      "id": "eTlUWlApQ06n"
    }
  ],
  "metadata": {
    "kernelspec": {
      "display_name": "Python 3",
      "language": "python",
      "name": "python3"
    },
    "language_info": {
      "codemirror_mode": {
        "name": "ipython",
        "version": 3
      },
      "file_extension": ".py",
      "mimetype": "text/x-python",
      "name": "python",
      "nbconvert_exporter": "python",
      "pygments_lexer": "ipython3",
      "version": "3.8.8"
    },
    "colab": {
      "name": "RandomForest.ipynb",
      "provenance": [],
      "collapsed_sections": []
    }
  },
  "nbformat": 4,
  "nbformat_minor": 5
}